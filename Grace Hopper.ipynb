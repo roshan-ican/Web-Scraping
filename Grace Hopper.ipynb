{
 "cells": [
  {
   "cell_type": "code",
   "execution_count": 1,
   "metadata": {},
   "outputs": [],
   "source": [
    "import requests"
   ]
  },
  {
   "cell_type": "code",
   "execution_count": 5,
   "metadata": {},
   "outputs": [],
   "source": [
    "res = requests.get('https://en.wikipedia.org/wiki/Grace_Hopper')"
   ]
  },
  {
   "cell_type": "code",
   "execution_count": 8,
   "metadata": {},
   "outputs": [],
   "source": [
    "import bs4"
   ]
  },
  {
   "cell_type": "code",
   "execution_count": 9,
   "metadata": {},
   "outputs": [],
   "source": [
    "soup = bs4.BeautifulSoup(res.text, \"lxml\")"
   ]
  },
  {
   "cell_type": "code",
   "execution_count": 12,
   "metadata": {},
   "outputs": [],
   "source": [
    "#soup"
   ]
  },
  {
   "cell_type": "code",
   "execution_count": 13,
   "metadata": {},
   "outputs": [
    {
     "data": {
      "text/plain": [
       "[<span class=\"toctext\">Early life and education</span>,\n",
       " <span class=\"toctext\">Career</span>,\n",
       " <span class=\"toctext\">World War II</span>,\n",
       " <span class=\"toctext\">UNIVAC</span>,\n",
       " <span class=\"toctext\">COBOL</span>,\n",
       " <span class=\"toctext\">Standards</span>,\n",
       " <span class=\"toctext\">Retirement</span>,\n",
       " <span class=\"toctext\">Post-retirement</span>,\n",
       " <span class=\"toctext\">Anecdotes</span>,\n",
       " <span class=\"toctext\">Death</span>,\n",
       " <span class=\"toctext\">Dates of rank</span>,\n",
       " <span class=\"toctext\">Awards and honors</span>,\n",
       " <span class=\"toctext\">Military awards</span>,\n",
       " <span class=\"toctext\">Other awards</span>,\n",
       " <span class=\"toctext\">Legacy</span>,\n",
       " <span class=\"toctext\">Places</span>,\n",
       " <span class=\"toctext\">Programs</span>,\n",
       " <span class=\"toctext\">In popular culture</span>,\n",
       " <span class=\"toctext\">Grace Hopper Celebration of Women in Computing</span>,\n",
       " <span class=\"toctext\">See also</span>,\n",
       " <span class=\"toctext\">Notes</span>,\n",
       " <span class=\"toctext\">Obituary notices</span>,\n",
       " <span class=\"toctext\">References</span>,\n",
       " <span class=\"toctext\">Further reading</span>,\n",
       " <span class=\"toctext\">External links</span>]"
      ]
     },
     "execution_count": 13,
     "metadata": {},
     "output_type": "execute_result"
    }
   ],
   "source": [
    "soup.select('.toctext')"
   ]
  },
  {
   "cell_type": "code",
   "execution_count": 15,
   "metadata": {},
   "outputs": [],
   "source": [
    "first_item = soup.select('.toctext')[0]\n"
   ]
  },
  {
   "cell_type": "code",
   "execution_count": 16,
   "metadata": {},
   "outputs": [
    {
     "data": {
      "text/plain": [
       "'Early life and education'"
      ]
     },
     "execution_count": 16,
     "metadata": {},
     "output_type": "execute_result"
    }
   ],
   "source": [
    "first_item.text"
   ]
  },
  {
   "cell_type": "code",
   "execution_count": 17,
   "metadata": {},
   "outputs": [
    {
     "name": "stdout",
     "output_type": "stream",
     "text": [
      "Early life and education\n",
      "Career\n",
      "World War II\n",
      "UNIVAC\n",
      "COBOL\n",
      "Standards\n",
      "Retirement\n",
      "Post-retirement\n",
      "Anecdotes\n",
      "Death\n",
      "Dates of rank\n",
      "Awards and honors\n",
      "Military awards\n",
      "Other awards\n",
      "Legacy\n",
      "Places\n",
      "Programs\n",
      "In popular culture\n",
      "Grace Hopper Celebration of Women in Computing\n",
      "See also\n",
      "Notes\n",
      "Obituary notices\n",
      "References\n",
      "Further reading\n",
      "External links\n"
     ]
    }
   ],
   "source": [
    "for item in soup.select('.toctext'):\n",
    "    print(item.text)"
   ]
  },
  {
   "cell_type": "code",
   "execution_count": null,
   "metadata": {},
   "outputs": [],
   "source": []
  },
  {
   "cell_type": "code",
   "execution_count": null,
   "metadata": {},
   "outputs": [],
   "source": []
  },
  {
   "cell_type": "code",
   "execution_count": null,
   "metadata": {},
   "outputs": [],
   "source": []
  }
 ],
 "metadata": {
  "kernelspec": {
   "display_name": "Python 3",
   "language": "python",
   "name": "python3"
  },
  "language_info": {
   "codemirror_mode": {
    "name": "ipython",
    "version": 3
   },
   "file_extension": ".py",
   "mimetype": "text/x-python",
   "name": "python",
   "nbconvert_exporter": "python",
   "pygments_lexer": "ipython3",
   "version": "3.8.5"
  }
 },
 "nbformat": 4,
 "nbformat_minor": 4
}
